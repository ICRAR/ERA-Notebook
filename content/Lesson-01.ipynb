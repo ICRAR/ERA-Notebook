{
  "metadata": {
    "kernelspec": {
      "name": "python",
      "display_name": "Python (Pyodide)",
      "language": "python"
    },
    "language_info": {
      "codemirror_mode": {
        "name": "python",
        "version": 3
      },
      "file_extension": ".py",
      "mimetype": "text/x-python",
      "name": "python",
      "nbconvert_exporter": "python",
      "pygments_lexer": "ipython3",
      "version": "3.8"
    }
  },
  "nbformat_minor": 4,
  "nbformat": 4,
  "cells": [
    {
      "cell_type": "markdown",
      "source": "![ERA-LOGO](data/logo.png)",
      "metadata": {}
    },
    {
      "cell_type": "markdown",
      "source": "## Initialise Python Environment\nRun the cell bellow to get everything setup and ready to go! \\\nThis can take some time, so sit back and wait a few minutes...",
      "metadata": {}
    },
    {
      "cell_type": "code",
      "source": "from ERA.requirements import install; await install();\nfrom ERA.software import *\noutput_view = widgets.Output()\noutput_view",
      "metadata": {
        "trusted": true,
        "editable": false,
        "slideshow": {
          "slide_type": ""
        }
      },
      "outputs": [],
      "execution_count": null
    },
    {
      "cell_type": "markdown",
      "source": "<br />\nRun this cell to clear the Output View:",
      "metadata": {}
    },
    {
      "cell_type": "code",
      "source": "output_view.clear_output()",
      "metadata": {
        "trusted": true
      },
      "outputs": [],
      "execution_count": null
    },
    {
      "cell_type": "markdown",
      "source": "<br />",
      "metadata": {}
    },
    {
      "cell_type": "markdown",
      "source": "## Upload a file:\nRun the cell below, then click \"Upload\" and select your data file.",
      "metadata": {
        "editable": true,
        "slideshow": {
          "slide_type": ""
        }
      }
    },
    {
      "cell_type": "code",
      "source": "uploader = FileUploader()",
      "metadata": {
        "tags": [],
        "trusted": true,
        "editable": true,
        "slideshow": {
          "slide_type": ""
        }
      },
      "outputs": [],
      "execution_count": null
    },
    {
      "cell_type": "markdown",
      "source": "## Processing the data:\nBefore we can analyse the data, we first need to check what was recorded.\nRun the following code chunk to retrieve this information from the UVfits file.",
      "metadata": {
        "editable": true,
        "slideshow": {
          "slide_type": ""
        }
      }
    },
    {
      "cell_type": "code",
      "source": "#uploader.write_file()\ndata = ERA.DataFile(\"data/example.uvfits\",print_metadata=True)",
      "metadata": {
        "trusted": true
      },
      "outputs": [],
      "execution_count": null
    },
    {
      "cell_type": "markdown",
      "source": "## Figure: UV Coverage",
      "metadata": {}
    },
    {
      "cell_type": "code",
      "source": "output_view.clear_output()\nwith output_view:\n    display( data.fig_uv_coverage() )",
      "metadata": {
        "tags": [],
        "trusted": true,
        "editable": true,
        "slideshow": {
          "slide_type": ""
        }
      },
      "outputs": [],
      "execution_count": null
    },
    {
      "cell_type": "markdown",
      "source": "## Figure: Visibilities vs Baseline Length",
      "metadata": {}
    },
    {
      "cell_type": "code",
      "source": "output_view.clear_output()\nwith output_view:\n    display( data.fig_vis_v_baseline() )",
      "metadata": {
        "tags": [],
        "trusted": true
      },
      "outputs": [],
      "execution_count": null
    },
    {
      "cell_type": "markdown",
      "source": "## Figure: All sky image",
      "metadata": {}
    },
    {
      "cell_type": "code",
      "source": "output_view.clear_output()\nwith output_view:\n    display( data.fig_all_sky_image() )",
      "metadata": {
        "tags": [],
        "trusted": true
      },
      "outputs": [],
      "execution_count": null
    },
    {
      "cell_type": "markdown",
      "source": "## Figure: Image vs Baseline Length (Increasing Resolution)",
      "metadata": {}
    },
    {
      "cell_type": "code",
      "source": "# Generate data for each animation frame\nNframes = 16\ndata = np.zeros([npix,npix,Nframes])\nuvmax = np.ceil(np.max(UVdist) * (c/freq_center) ) / (c/freq_center)\n\nfor n in range(Nframes):\n  uv_cutoff = (n+1)/Nframes * uvmax\n  select = np.argwhere( UVdist <= uv_cutoff )[:,0]\n  data[:,:,n] = gen_image(select=select)\n\n# --- Define animation frames ---\nframes = []\nslider_steps = []\nfor n in range(Nframes):\n  uv_cutoff = (n+1)/Nframes * uvmax *(c/freq_center) # (metres)\n\n  # --- define data for this frame ---\n  frames.append(\n    go.Heatmap(\n      name = \"\",\n      z = data[:,:,n],\n      x = l_axis,\n      y = m_axis,\n      colorscale = colorscale,\n      visible = False #All frames not visible by default (We will manually enable frame 0 later)\n    )\n  )\n\n  # --- Define plot title and slider related stuff for this frame ---\n  slider_step = {\n      \"method\": \"restyle\", #\"update\",\n      \"label\": np.round(uv_cutoff,2),\n      \"args\": [\n                {\"visible\": [False] * Nframes}\n              ]\n  }\n  slider_step[\"args\"][0][\"visible\"][n] = True\n  slider_steps.append(slider_step)\n\n# --- Create Figure ---\nfig = go.Figure(\n    data=frames,\n    layout = {\n        \"template\": \"simple_white\",\n        \"autosize\": False,\n        \"width\": 700,\n        \"height\": 750,\n        \"xaxis\": {\n            \"title_text\": \"\",\n            \"title_font\": {\"size\": 20}\n          },\n        \"yaxis\": {\n            \"title_text\": \"\",\n            \"title_font\": {\"size\": 20}\n          },\n        \"sliders\": [{\n            \"active\": 0,\n            \"currentvalue\": {\"prefix\": \"Max Baseline Length (m): \"},\n            \"pad\": {\"t\": 50},\n            \"steps\": slider_steps\n          }]\n    }\n)\n\n# --- Manualy Draw WCS Grid ---\ndrawWCSGrid(fig)\n\nfig.data[0].visible = True\nfig.show()",
      "metadata": {
        "tags": [],
        "trusted": true,
        "jupyter": {
          "source_hidden": true
        }
      },
      "outputs": [],
      "execution_count": null
    },
    {
      "cell_type": "markdown",
      "source": "## Figure: Image & Visibilities vs Basleine Length",
      "metadata": {}
    },
    {
      "cell_type": "code",
      "source": "# Generate data for each animation frame\nNframes = 16\nfig = make_subplots(rows=1, cols=2)\n\nuvmax  = np.ceil(np.max(UVdist) * (c/freq_center) ) / (c/freq_center)\nvismax = np.max(np.abs(vis)) * 1.05\nvismin = np.min(np.abs(vis)) / 1.05\n\nsteps = []\nfor n in range(Nframes):\n  uv_cutoff = (n+1)/Nframes * uvmax\n  select = np.argwhere( UVdist <= uv_cutoff )[:,0]\n\n  # --- Generate Data ---\n  uv_data  = UVdist[select] * (c/freq_center)\n  vis_data = np.abs(vis[select])\n  img_data = gen_image(select=select)\n\n  # --- Add UVplot Trace ---\n  fig.add_trace(\n      go.Scattergl(\n          name = \"\",\n          x = uv_data,\n          y = vis_data,\n          mode = \"markers\",\n          marker = dict(\n              color = \"black\",\n              showscale = False, # disable colorbar\n              size = 4\n          ),\n          visible = False #All frames not visible by default (We will manually enable frame 0 later)\n      ),\n      row=1, col=1\n  )\n\n  fig.add_trace(\n      go.Heatmap(\n        name = \"\",\n        z = img_data,\n        x = l_axis,\n        y = m_axis,\n        colorscale = colorscale,\n        visible = False #All frames not visible by default (We will manually enable frame 0 later)\n      ),\n      row=1, col=2\n  )\n\n  # Define slide data\n  step = {\n      \"method\": 'restyle',\n      \"args\": ['visible', ['legendonly'] * (2*Nframes) ],\n      \"label\": np.round(uv_cutoff*(c/freq_center),2)\n  }\n  step['args'][1][2*n  ] = True\n  step['args'][1][2*n+1] = True\n  steps.append(step)\n\nfig.update_layout(width=1100, height=600,autosize=False)\nfig.layout[\"template\"] = \"simple_white\"\nfig.layout[\"sliders\"] = [{\n    \"steps\": steps,\n    \"currentvalue\": {\"prefix\": \"Max Baseline Length (m): \"}\n}]\n\nfor n in range(Nframes):\n  fig.layout[\"xaxis\"+str(n*2+1)] = {\n      \"range\": [0,uvmax],\n      \"domain\": [0,0.5]\n  }\n  fig.layout[\"yaxis\"+str(n*2+1)] = {\n      \"range\": [vismin,vismax],\n      \"domain\": [0,1]\n  }\n\nfig.data[0].visible = True\nfig.data[1].visible = True\n\nfig.show()",
      "metadata": {
        "tags": [],
        "trusted": true,
        "jupyter": {
          "source_hidden": true
        }
      },
      "outputs": [],
      "execution_count": null
    },
    {
      "cell_type": "markdown",
      "source": "## Figure: Image vs UV Coverage",
      "metadata": {}
    },
    {
      "cell_type": "code",
      "source": "# Generate data for each animation frame\nNframes = 12\nfig = make_subplots(rows=1, cols=2)\n\nuvmax  = np.ceil(np.max(UVdist) * (c/freq_center) ) / (c/freq_center)\n\nsteps = []\nfor n in range(Nframes):\n  uv_cutoff = (n+1)/Nframes * uvmax\n  select = np.argwhere( UVdist <= uv_cutoff )[:,0]\n\n  # --- Generate Data ---\n  UVs = UVWs[select,0:2] * (c/freq_center)\n  UVs = np.tile( UVs , (2,1) )\n  UVs[int(UVs.shape[0]/2):,:] *= -1\n\n  img_data = gen_image(select=select)\n\n  # --- Add UVplot Trace ---\n  fig.add_trace(\n      go.Scattergl(\n          name = \"\",\n          x = UVs[:,0],\n          y = UVs[:,1],\n          mode = \"markers\",\n          marker = dict(\n              color = \"black\",\n              showscale = False, # disable colorbar\n              size = 4\n          ),\n          visible = False #All frames not visible by default (We will manually enable frame 0 later)\n      ),\n      row=1, col=1\n  )\n\n  fig.add_trace(\n      go.Heatmap(\n        name = \"\",\n        z = img_data,\n        x = l_axis,\n        y = m_axis,\n        colorscale = colorscale,\n        visible = False #All frames not visible by default (We will manually enable frame 0 later)\n      ),\n      row=1, col=2\n  )\n\n  # Define slide data\n  step = {\n      \"method\": 'restyle',\n      \"args\": ['visible', ['legendonly'] * (2*Nframes) ],\n      \"label\": np.round(uv_cutoff*(c/freq_center),2)\n  }\n  step['args'][1][2*n  ] = True\n  step['args'][1][2*n+1] = True\n  steps.append(step)\n\nfig.update_layout(width=1100, height=650,autosize=False)\nfig.layout[\"template\"] = \"simple_white\"\nfig.layout[\"sliders\"] = [{\n    \"steps\": steps,\n    \"currentvalue\": {\"prefix\": \"Max Baseline Length (m): \"}\n}]\n\nfor n in range(Nframes):\n  fig.layout[\"xaxis\"+str(n*2+1)] = {\n      \"range\": [-uvmax,uvmax],\n      \"domain\": [0,0.5]\n  }\n  fig.layout[\"yaxis\"+str(n*2+1)] = {\n      \"range\": [-uvmax,uvmax],\n      \"domain\": [0,1]\n  }\n\nfig.data[0].visible = True\nfig.data[1].visible = True\n\nfig.show()",
      "metadata": {
        "tags": [],
        "trusted": true,
        "jupyter": {
          "source_hidden": true
        }
      },
      "outputs": [],
      "execution_count": null
    }
  ]
}