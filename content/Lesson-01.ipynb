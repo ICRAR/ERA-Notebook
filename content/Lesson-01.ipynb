{
  "metadata": {
    "kernelspec": {
      "name": "python",
      "display_name": "Python (Pyodide)",
      "language": "python"
    },
    "language_info": {
      "codemirror_mode": {
        "name": "python",
        "version": 3
      },
      "file_extension": ".py",
      "mimetype": "text/x-python",
      "name": "python",
      "nbconvert_exporter": "python",
      "pygments_lexer": "ipython3",
      "version": "3.8"
    }
  },
  "nbformat_minor": 4,
  "nbformat": 4,
  "cells": [
    {
      "cell_type": "markdown",
      "source": "![ERA-LOGO](data/logo.png)",
      "metadata": {}
    },
    {
      "cell_type": "markdown",
      "source": "## Initialise Python Environment\nRun the cell bellow to get everything setup and ready to go! \\\nThis can take some time, so sit back and wait a few minutes...",
      "metadata": {}
    },
    {
      "cell_type": "code",
      "source": "from ERA_lib.requirements import install; await install();\nfrom ERA_lib.software import *",
      "metadata": {
        "trusted": true,
        "editable": true,
        "slideshow": {
          "slide_type": ""
        }
      },
      "outputs": [],
      "execution_count": 1
    },
    {
      "cell_type": "markdown",
      "source": "## Output View",
      "metadata": {
        "editable": true,
        "slideshow": {
          "slide_type": ""
        }
      }
    },
    {
      "cell_type": "markdown",
      "source": "Instructions:\n1. Run the cell bellow\n2. Right click on text that says \"-- Output View --\"\n3. Select \"Create New View for Cell Output\"\n4. Drag the new window to the side of the screen (or wherever you like)\n5. Click the blue bar to the left of the output below to hide it.",
      "metadata": {
        "editable": true,
        "slideshow": {
          "slide_type": ""
        }
      }
    },
    {
      "cell_type": "code",
      "source": "output_view = widgets.Output()\nwith output_view:\n    print(\"\\n\\n-- Output View --\\n\\n\")\noutput_view",
      "metadata": {
        "trusted": true,
        "editable": true,
        "slideshow": {
          "slide_type": ""
        },
        "collapsed": true,
        "jupyter": {
          "outputs_hidden": true
        }
      },
      "outputs": [
        {
          "execution_count": 2,
          "output_type": "execute_result",
          "data": {
            "text/plain": "Output()",
            "application/vnd.jupyter.widget-view+json": {
              "version_major": 2,
              "version_minor": 0,
              "model_id": ""
            }
          },
          "metadata": {}
        }
      ],
      "execution_count": 2
    },
    {
      "cell_type": "markdown",
      "source": "<br />\nRun this cell to clear the Output View:",
      "metadata": {
        "editable": true,
        "slideshow": {
          "slide_type": ""
        }
      }
    },
    {
      "cell_type": "code",
      "source": "output_view.clear_output()",
      "metadata": {
        "trusted": true,
        "editable": true,
        "slideshow": {
          "slide_type": ""
        }
      },
      "outputs": [],
      "execution_count": 3
    },
    {
      "cell_type": "markdown",
      "source": "<br />",
      "metadata": {
        "editable": true,
        "slideshow": {
          "slide_type": ""
        }
      }
    },
    {
      "cell_type": "markdown",
      "source": "## Download Data:\nRun the cell below, select a date and time, then click the download button.",
      "metadata": {
        "editable": true,
        "slideshow": {
          "slide_type": ""
        }
      }
    },
    {
      "cell_type": "code",
      "source": "downloader = DataDownloader()",
      "metadata": {
        "tags": [],
        "trusted": true,
        "editable": true,
        "slideshow": {
          "slide_type": ""
        }
      },
      "outputs": [
        {
          "output_type": "display_data",
          "data": {
            "text/plain": "Dropdown(description='Day', index=1, options=(('2023/04/20 (Solar Eclipse)', '2023_04_20/'), ('2023/04/21', '2…",
            "application/vnd.jupyter.widget-view+json": {
              "version_major": 2,
              "version_minor": 0,
              "model_id": "dab1126fa0ce4baaa71689c7ba831063"
            }
          },
          "metadata": {}
        },
        {
          "output_type": "display_data",
          "data": {
            "text/plain": "TimePicker(value=datetime.time(12, 0), description='Time', max=datetime.time(17, 0), min=datetime.time(8, 0), …",
            "application/vnd.jupyter.widget-view+json": {
              "version_major": 2,
              "version_minor": 0,
              "model_id": "dac1693451614bc697ac7b2d69991e0e"
            }
          },
          "metadata": {}
        },
        {
          "output_type": "display_data",
          "data": {
            "text/plain": "Checkbox(value=False, description='Calibrate')",
            "application/vnd.jupyter.widget-view+json": {
              "version_major": 2,
              "version_minor": 0,
              "model_id": "5bad09a101d64ad99999cb711c7c53b4"
            }
          },
          "metadata": {}
        },
        {
          "output_type": "display_data",
          "data": {
            "text/plain": "Button(description='Download Data', style=ButtonStyle())",
            "application/vnd.jupyter.widget-view+json": {
              "version_major": 2,
              "version_minor": 0,
              "model_id": "e9ab8d01d8624310ac93b8f3a8a944b3"
            }
          },
          "metadata": {}
        }
      ],
      "execution_count": 4
    },
    {
      "cell_type": "markdown",
      "source": "## Processing the Data:",
      "metadata": {
        "editable": true,
        "slideshow": {
          "slide_type": ""
        }
      }
    },
    {
      "cell_type": "code",
      "source": "data = ERA.DataFile( downloader.filename ,print_metadata=True)",
      "metadata": {
        "trusted": true,
        "editable": true,
        "slideshow": {
          "slide_type": ""
        }
      },
      "outputs": [
        {
          "name": "stdout",
          "text": "Num Antennas:\t\t 50\nNum Baselines:\t\t 990\nNum Time Steps:\t\t 1\nNum Frequency Bins:\t 1\nCenter Frequency:\t 325.992 MHz\nArray of frequnecies:\t [325.992] MHz\nPhase Center (RA):\t 40.032 degrees\nPhase Center (DEC):\t -32.310 degrees\n",
          "output_type": "stream"
        }
      ],
      "execution_count": 7
    },
    {
      "cell_type": "markdown",
      "source": "### Figure: UV Coverage",
      "metadata": {}
    },
    {
      "cell_type": "code",
      "source": "output_view.clear_output()\nwith output_view:\n    display( data.fig_uv_coverage() )",
      "metadata": {
        "tags": [],
        "trusted": true,
        "editable": true,
        "slideshow": {
          "slide_type": ""
        }
      },
      "outputs": [],
      "execution_count": 8
    },
    {
      "cell_type": "markdown",
      "source": "### Figure: Visibilities vs Baseline Length",
      "metadata": {}
    },
    {
      "cell_type": "code",
      "source": "output_view.clear_output()\nwith output_view:\n    display( data.fig_vis_v_baseline() )",
      "metadata": {
        "tags": [],
        "trusted": true
      },
      "outputs": [],
      "execution_count": 9
    },
    {
      "cell_type": "markdown",
      "source": "### Figure: All sky image",
      "metadata": {}
    },
    {
      "cell_type": "code",
      "source": "output_view.clear_output()\nwith output_view:\n    display( data.fig_all_sky_image() )",
      "metadata": {
        "tags": [],
        "trusted": true
      },
      "outputs": [],
      "execution_count": 10
    },
    {
      "cell_type": "markdown",
      "source": "### Figure: Image vs Baseline Length (Increasing Resolution)",
      "metadata": {}
    },
    {
      "cell_type": "code",
      "source": "output_view.clear_output()\nwith output_view:\n    data.fig_img_v_baseline().show()",
      "metadata": {
        "tags": [],
        "trusted": true
      },
      "outputs": [],
      "execution_count": 11
    },
    {
      "cell_type": "markdown",
      "source": "### Figure: Image & Visibilities vs Baseline Length",
      "metadata": {}
    },
    {
      "cell_type": "code",
      "source": "output_view.clear_output()\nwith output_view:\n    data.fig_imgvis_v_baseline().show()",
      "metadata": {
        "tags": [],
        "trusted": true
      },
      "outputs": [],
      "execution_count": 12
    },
    {
      "cell_type": "markdown",
      "source": "### Figure: Image vs UV Coverage",
      "metadata": {}
    },
    {
      "cell_type": "code",
      "source": "output_view.clear_output()\nwith output_view:\n    data.fig_img_v_uv().show()",
      "metadata": {
        "tags": [],
        "trusted": true
      },
      "outputs": [],
      "execution_count": 13
    },
    {
      "cell_type": "code",
      "source": "",
      "metadata": {
        "trusted": true
      },
      "outputs": [],
      "execution_count": null
    }
  ]
}