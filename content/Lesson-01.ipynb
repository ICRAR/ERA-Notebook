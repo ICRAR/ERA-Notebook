{
  "metadata": {
    "kernelspec": {
      "name": "python",
      "display_name": "Python (Pyodide)",
      "language": "python"
    },
    "language_info": {
      "codemirror_mode": {
        "name": "python",
        "version": 3
      },
      "file_extension": ".py",
      "mimetype": "text/x-python",
      "name": "python",
      "nbconvert_exporter": "python",
      "pygments_lexer": "ipython3",
      "version": "3.8"
    }
  },
  "nbformat_minor": 4,
  "nbformat": 4,
  "cells": [
    {
      "cell_type": "markdown",
      "source": "![ERA-LOGO](data/logo.png)",
      "metadata": {}
    },
    {
      "cell_type": "markdown",
      "source": "## Initialise Python Environment\nRun the cell bellow to get everything setup and ready to go! \\\nThis can take some time, so sit back and wait a few minutes...",
      "metadata": {}
    },
    {
      "cell_type": "code",
      "source": "%pip install nbformat ipywidgets numpy matplotlib pandas plotly astropy\nfrom ERA import *",
      "metadata": {
        "trusted": true
      },
      "outputs": [],
      "execution_count": null
    },
    {
      "cell_type": "markdown",
      "source": "## Upload a file:\nRun the cell below, then click \"Upload\" and select your data file.",
      "metadata": {}
    },
    {
      "cell_type": "code",
      "source": "uploader = FileUploader()",
      "metadata": {
        "tags": [],
        "trusted": true
      },
      "outputs": [],
      "execution_count": null
    },
    {
      "cell_type": "markdown",
      "source": "## Processing the data:\nBefore we can analyse the data, we first need to check what was recorded.\nRun the following code chunk to retrieve this information from the UVfits file.",
      "metadata": {}
    },
    {
      "cell_type": "code",
      "source": "uploader.write_file()\ndata = ERAData(\"telescope-data.uvfits\")",
      "metadata": {
        "trusted": true
      },
      "outputs": [],
      "execution_count": null
    },
    {
      "cell_type": "markdown",
      "source": "## Prepare the data\nThe data is currently in a format that the telescope understands, but we need to turn it into numbers that humans can understand.",
      "metadata": {}
    },
    {
      "cell_type": "code",
      "source": "# -- Extract the visibilities as complex numbers --\nvis = np.zeros(Nblts,dtype=np.complex64)\nfor i in range(Nblts):\n    real = np.average( hdu[0].data[i][PCOUNT].take(indices=0, axis=NAXIS-1-1).take(indices=0, axis=NAXIS-1-2) ) # Take Real Part & first index of polarisation, average over all other axes\n    imag = np.average( hdu[0].data[i][PCOUNT].take(indices=1, axis=NAXIS-1-1).take(indices=0, axis=NAXIS-1-2) ) # Take Imag Part & first index of polarisation, average over all other axes\n    vis[i] = real + 1j*imag\n\n# -- Remove Autos --\ncross = np.argwhere( UVdist > 0 )[:,0]\nUVdist = UVdist[cross]\nUVWs = UVWs[cross,:]\nvis = vis[cross]\nNblts = len(cross)\nNbls = int(len(cross)/Ntimes)\n#Nbls = Nbls - Nant\n#Nblts = Nbls*Ntimes\n\n# -- Generate Antenna Names --\nant_name = hdu[1].data.field(0)         # Antenna Names\nants_in_baseline = []                   # Antenna's that make up each baseline/visibility (One could derive this from BASELINES, but the convention differs between software)\nk = 0\nfor p in range(Nant):\n    for q in range(p+1,Nant,1):\n        ants_in_baseline.append( [ant_name[p],ant_name[q]] )\n        k += 1\n\n# Compute image resolution & npix\nuvmax = np.max(UVdist) *(c/freq_center) # Max UV dist in metres\nlam = c / freq_center\nresolution = 1.2 * lam / uvmax\npixres = resolution / 3\nnpix = int(2/pixres)\n\n# Define image coordinate system\nl_axis = np.linspace(-1,1,num=npix)\nm_axis = np.linspace(-1,1,num=npix)\nl = np.tile( l_axis , (len(l_axis),1) )\nm = np.tile( m_axis , (len(m_axis),1) ).T\nr2 = l**2 + m**2; r2[ r2 >= 1 ] = 1\nn = np.sqrt( 1 - r2 )\n\n# Define RA,DEC coordinate system\ndef gen_radec(npix,obsra,obsdec):\n    # Convert to radians\n    obsra  = obsra*np.pi/180.0\n    obsdec = obsdec*np.pi/180.0\n\n    # Define direction cosine coords - (l,m,n) grid\n    grid = np.moveaxis( np.array([n,l,m]) , 0, -1)\n\n    # -- Rotate for Dec --\n    roty = np.array([\n      [ np.cos(obsdec) ,0  ,np.sin(obsdec)],\n      [0                ,1  ,0              ],\n      [-np.sin(obsdec) ,0  ,np.cos(obsdec)]\n    ])\n    # -- Rotate for RA --\n    rotz = np.array([\n      [np.cos(-obsra) ,-np.sin(-obsra) ,0 ],\n      [np.sin(-obsra) , np.cos(-obsra) ,0 ],\n      [0            ,0             ,1 ]\n    ])\n\n    rot  = np.matmul( roty , rotz )\n    grid = np.matmul( grid , rot )\n\n    ra  = np.arctan2(grid[:,:,1],grid[:,:,0]) * 180/np.pi\n    dec = np.arctan2(grid[:,:,2], np.sqrt( grid[:,:,0]**2 + grid[:,:,1]**2 ) ) * 180/np.pi\n\n    ra[ r2 >= 1 ] = 0\n    dec[ r2 >= 1 ] = 0\n\n    return ra, dec\n\nra_coords, dec_coords = gen_radec(npix,OBSRA,OBSDEC)\n\n",
      "metadata": {
        "tags": [],
        "trusted": true,
        "jupyter": {
          "source_hidden": true
        }
      },
      "outputs": [],
      "execution_count": null
    },
    {
      "cell_type": "markdown",
      "source": "## Create some plotting functions\nWe need to turn the multidimensional data into something that we can understand in just two dimensions. To do this we create some special functions that let us project the data onto a pair of x and y axis.",
      "metadata": {}
    },
    {
      "cell_type": "code",
      "source": "# ------ Imaging Functions ------\ndef grid_nearest(select=np.arange(Nblts,dtype=int)):\n    Nvis = len(select) # The number of visibilities selected to include in the data\n\n    VISgrid = np.zeros([npix,npix],dtype=np.complex64)\n    WEIGHT  = np.zeros([npix,npix],dtype=int)\n    for i in range(Nvis):\n        x = int(np.round( UVWs[select[i],0]*2 ))\n        y = int(np.round( UVWs[select[i],1]*2 ))\n        VISgrid[y,x]   += vis[select[i]]\n        VISgrid[-y,-x] += np.conj(vis[select[i]])\n        WEIGHT[y,x]    += 1\n        WEIGHT[-y,-x]  += 1\n    WEIGHT[ WEIGHT == 0 ] = 1 # avoid dividing by 0\n    VISgrid = VISgrid / WEIGHT  # Is this natural weighting?? IDK, maybe its uniform. Which one is best? I cant remember\n    return VISgrid\n\ndef gen_image(select=np.arange(Nblts,dtype=int)):\n    VISgrid = grid_nearest(select=select)\n    img = np.fft.fftshift(np.fft.fftshift(np.fft.fft2( VISgrid ),axes=0),axes=1) / npix\n    return np.abs( img )\n\n# ------ Plotly Convenience Functions ------\ndef latitude_line(lat,dec=0,N=100):\n    lat = lat/180.0*np.pi\n    dec = dec/180.0*np.pi\n    t = np.linspace(-np.pi,np.pi,N)\n    line = np.array([\n        np.cos(t)*np.cos(np.ones(N)*lat),\n        np.sin(t)*np.cos(np.ones(N)*lat),\n        np.sin(np.ones(N)*lat)\n    ]).T\n    rot = np.array([\n        [ np.cos(-dec) ,0  ,np.sin(-dec)],\n        [0            ,1  ,0          ],\n        [-np.sin(-dec) ,0  ,np.cos(-dec)]\n    ])\n    line = np.matmul( line , rot )\n\n    # --- remove points that are not visible ---\n    idx = np.argwhere( line[:,0] > 0 )[:,0]\n    line = line[idx,:]\n\n    # --- Generate SVG path ---\n    if len(line) == 0:\n        return \"\"\n    path = f'M {line[0,1]}, {line[0,2]}'\n    for k in range(1,len(line)):\n        path += f'L{line[k,1]}, {line[k,2]}'\n    return path\n\ndef longitude_line(lon,dec=0,N=100):\n    lon = lon/180.0*np.pi\n    dec = dec/180.0*np.pi\n    t = np.linspace(-np.pi,np.pi,N)\n    line = np.array([\n        np.cos(t),\n        np.zeros(N),\n        np.sin(t)\n    ]).T\n    rotz = np.array([\n        [np.cos(-lon) ,-np.sin(-lon) ,0 ],\n        [np.sin(-lon) , np.cos(-lon) ,0 ],\n        [0            ,0             ,1 ]\n    ])\n    line = np.matmul( line , rotz )\n    roty = np.array([\n        [ np.cos(-dec) ,0  ,np.sin(-dec)],\n        [0             ,1  ,0           ],\n        [-np.sin(-dec) ,0  ,np.cos(-dec)]\n    ])\n    line = np.matmul( line , roty )\n\n    # --- remove points that are not visible ---\n    idx = np.argwhere( line[:,0] > 0 )[:,0]\n    line = line[idx,:]\n\n    # --- Generate SVG path ---\n    if len(line) == 0:\n        return \"\"\n    path = f'M {line[0,1]}, {line[0,2]}'\n    for k in range(1,len(line)):\n        path += f'L{line[k,1]}, {line[k,2]}'\n    return path\n\n# Manualy Draw WCS Grid\ndef drawWCSGrid(fig):\n    fig.add_shape(type=\"circle\",\n      xref=\"x\", yref=\"y\",\n      x0=-1, y0=-1,\n      x1=1, y1=1,\n      opacity=1,\n      fillcolor=\"rgba(0,0,0,0)\",\n      line_color=\"white\",\n      line_width=1\n    )\n\n    lat_resolution = 30\n    for lat in np.arange(-90,90,lat_resolution):\n        fig.add_shape(\n            type=\"path\",\n            path=latitude_line(lat=lat,dec=OBSDEC),\n            fillcolor=\"rgba(0,0,0,0)\",\n            line_color=\"white\",\n            line_width=1\n        )\n\n    lon_resolution = 30\n    lon_offset = OBSRA % lon_resolution\n    for lon in np.arange(-90,90,lon_resolution):\n        fig.add_shape(\n            type=\"path\",\n            path=longitude_line(lon=lon+lon_offset,dec=OBSDEC),\n            fillcolor=\"rgba(0,0,0,0)\",\n            line_color=\"white\",\n            line_width=1\n        )\n\n#  Define a sqrt colorscale\nviridis = px.colors.sequential.Viridis\ncolorscale = [\n    [0.0**2, viridis[0]],\n    [0.2**2, viridis[2]],\n    [0.4**2, viridis[4]],\n    [0.6**2, viridis[6]],\n    [0.8**2, viridis[8]],\n    [1.0**2, viridis[9]],\n]\n",
      "metadata": {
        "trusted": true,
        "jupyter": {
          "source_hidden": true
        }
      },
      "outputs": [],
      "execution_count": null
    },
    {
      "cell_type": "markdown",
      "source": "## Figure: UV Coverage",
      "metadata": {}
    },
    {
      "cell_type": "code",
      "source": "# plot u,v coverage including all timesteps\nfig = go.Figure(\n    data = [\n        go.Scattergl(\n          name = \"\",\n          x = UVWs[:,0]*(c/freq_center),\n          y = UVWs[:,1]*(c/freq_center),\n          text = [ ants_in_baseline[k][0] + \" x \" + ants_in_baseline[k][1] for k in range(Nbls) ]*Ntimes,\n          mode = \"markers\",\n          marker = dict(\n              showscale = False, # disable colorbar\n              size = 6\n          )\n        ),\n        go.Scattergl(\n          name = \"conjugate\",\n          x = -UVWs[:,0]*(c/freq_center),\n          y = -UVWs[:,1]*(c/freq_center),\n          text = [ ants_in_baseline[k][1] + \" x \" + ants_in_baseline[k][0] for k in range(Nbls) ]*Ntimes,\n          mode = \"markers\",\n          marker = dict(\n              showscale = False, # disable colorbar\n              size = 6\n          )\n        )\n    ],\n    layout = {\n        \"template\": \"simple_white\",\n        \"autosize\": False,\n        \"width\": 600,\n        \"height\": 600,\n        \"xaxis\": {\n            \"title_text\": \"East baseline [m]\",\n            \"title_font\": {\"size\": 20}\n          },\n        \"yaxis\": {\n            \"title_text\": \"North baseline [m]\",\n            \"title_font\": {\"size\": 20}\n          },\n        \"showlegend\": False\n    }\n)\n\nfig",
      "metadata": {
        "tags": [],
        "trusted": true,
        "jupyter": {
          "source_hidden": true
        }
      },
      "outputs": [],
      "execution_count": null
    },
    {
      "cell_type": "markdown",
      "source": "## Figure: Visibilities vs Baseline Length",
      "metadata": {}
    },
    {
      "cell_type": "code",
      "source": "fig = go.Figure(\n    data = go.Scattergl(\n            name = \"\",\n            x = UVdist*(c/freq_center),\n            y = np.abs(vis),\n            text = [ ants_in_baseline[k][0] + \" x \" + ants_in_baseline[k][1] for k in range(Nbls) ]*Ntimes,\n            mode = \"markers\",\n            marker = dict(\n                showscale = False, # disable colorbar\n                size = 6\n            )\n    ),\n    layout = {\n        \"template\": \"simple_white\",\n        \"autosize\": False,\n        \"width\": 800,\n        \"height\": 600,\n        \"xaxis\": {\n            \"title_text\": \"Baseline length [m]\",\n            \"title_font\": {\"size\": 20}\n          },\n        \"yaxis\": {\n            \"title_text\": \"Visibility amplitude [Jy]\",\n            \"title_font\": {\"size\": 20}\n          },\n        \"showlegend\": False\n    }\n)\n\nfig",
      "metadata": {
        "tags": [],
        "trusted": true,
        "jupyter": {
          "source_hidden": true
        }
      },
      "outputs": [],
      "execution_count": null
    },
    {
      "cell_type": "markdown",
      "source": "## Figure: All sky image",
      "metadata": {}
    },
    {
      "cell_type": "code",
      "source": "# Generate Image\nimg = gen_image()\n\n# Generate Figure\nfig = go.Figure(\n    data = [\n      go.Heatmap(\n        name = \"\",\n        z = img,\n        x = l_axis,\n        y = m_axis,\n        hovertemplate=\"RA: %{text[0]:,.2f} <br />DEC: %{text[1]:,.2f} <br />Flux Density: %{text[2]:,.3f} Jy\",\n        text = [[  [ ra_coords[y,x] , dec_coords[y,x] , img[y,x] ]  for x in range(npix) ] for y in range(npix) ],\n        colorscale = colorscale\n      )\n    ],\n    layout = {\n        \"template\": \"simple_white\",\n        \"autosize\": False,\n        \"width\": 700,\n        \"height\": 700,\n        \"xaxis\": {\n            \"title_text\": \"\",\n            \"title_font\": {\"size\": 20}\n          },\n        \"yaxis\": {\n            \"title_text\": \"\",\n            \"title_font\": {\"size\": 20}\n          }\n    }\n)\n\n# --- Manualy Draw WCS Grid ---\ndrawWCSGrid(fig)\n\nfig",
      "metadata": {
        "tags": [],
        "trusted": true,
        "jupyter": {
          "source_hidden": true
        }
      },
      "outputs": [],
      "execution_count": null
    },
    {
      "cell_type": "markdown",
      "source": "## Figure: Image vs Baseline Length (Increasing Resolution)",
      "metadata": {}
    },
    {
      "cell_type": "code",
      "source": "# Generate data for each animation frame\nNframes = 16\ndata = np.zeros([npix,npix,Nframes])\nuvmax = np.ceil(np.max(UVdist) * (c/freq_center) ) / (c/freq_center)\n\nfor n in range(Nframes):\n  uv_cutoff = (n+1)/Nframes * uvmax\n  select = np.argwhere( UVdist <= uv_cutoff )[:,0]\n  data[:,:,n] = gen_image(select=select)\n\n# --- Define animation frames ---\nframes = []\nslider_steps = []\nfor n in range(Nframes):\n  uv_cutoff = (n+1)/Nframes * uvmax *(c/freq_center) # (metres)\n\n  # --- define data for this frame ---\n  frames.append(\n    go.Heatmap(\n      name = \"\",\n      z = data[:,:,n],\n      x = l_axis,\n      y = m_axis,\n      colorscale = colorscale,\n      visible = False #All frames not visible by default (We will manually enable frame 0 later)\n    )\n  )\n\n  # --- Define plot title and slider related stuff for this frame ---\n  slider_step = {\n      \"method\": \"restyle\", #\"update\",\n      \"label\": np.round(uv_cutoff,2),\n      \"args\": [\n                {\"visible\": [False] * Nframes}\n              ]\n  }\n  slider_step[\"args\"][0][\"visible\"][n] = True\n  slider_steps.append(slider_step)\n\n# --- Create Figure ---\nfig = go.Figure(\n    data=frames,\n    layout = {\n        \"template\": \"simple_white\",\n        \"autosize\": False,\n        \"width\": 700,\n        \"height\": 750,\n        \"xaxis\": {\n            \"title_text\": \"\",\n            \"title_font\": {\"size\": 20}\n          },\n        \"yaxis\": {\n            \"title_text\": \"\",\n            \"title_font\": {\"size\": 20}\n          },\n        \"sliders\": [{\n            \"active\": 0,\n            \"currentvalue\": {\"prefix\": \"Max Baseline Length (m): \"},\n            \"pad\": {\"t\": 50},\n            \"steps\": slider_steps\n          }]\n    }\n)\n\n# --- Manualy Draw WCS Grid ---\ndrawWCSGrid(fig)\n\nfig.data[0].visible = True\nfig.show()",
      "metadata": {
        "tags": [],
        "trusted": true,
        "jupyter": {
          "source_hidden": true
        }
      },
      "outputs": [],
      "execution_count": null
    },
    {
      "cell_type": "markdown",
      "source": "## Figure: Image & Visibilities vs Basleine Length",
      "metadata": {}
    },
    {
      "cell_type": "code",
      "source": "# Generate data for each animation frame\nNframes = 16\nfig = make_subplots(rows=1, cols=2)\n\nuvmax  = np.ceil(np.max(UVdist) * (c/freq_center) ) / (c/freq_center)\nvismax = np.max(np.abs(vis)) * 1.05\nvismin = np.min(np.abs(vis)) / 1.05\n\nsteps = []\nfor n in range(Nframes):\n  uv_cutoff = (n+1)/Nframes * uvmax\n  select = np.argwhere( UVdist <= uv_cutoff )[:,0]\n\n  # --- Generate Data ---\n  uv_data  = UVdist[select] * (c/freq_center)\n  vis_data = np.abs(vis[select])\n  img_data = gen_image(select=select)\n\n  # --- Add UVplot Trace ---\n  fig.add_trace(\n      go.Scattergl(\n          name = \"\",\n          x = uv_data,\n          y = vis_data,\n          mode = \"markers\",\n          marker = dict(\n              color = \"black\",\n              showscale = False, # disable colorbar\n              size = 4\n          ),\n          visible = False #All frames not visible by default (We will manually enable frame 0 later)\n      ),\n      row=1, col=1\n  )\n\n  fig.add_trace(\n      go.Heatmap(\n        name = \"\",\n        z = img_data,\n        x = l_axis,\n        y = m_axis,\n        colorscale = colorscale,\n        visible = False #All frames not visible by default (We will manually enable frame 0 later)\n      ),\n      row=1, col=2\n  )\n\n  # Define slide data\n  step = {\n      \"method\": 'restyle',\n      \"args\": ['visible', ['legendonly'] * (2*Nframes) ],\n      \"label\": np.round(uv_cutoff*(c/freq_center),2)\n  }\n  step['args'][1][2*n  ] = True\n  step['args'][1][2*n+1] = True\n  steps.append(step)\n\nfig.update_layout(width=1100, height=600,autosize=False)\nfig.layout[\"template\"] = \"simple_white\"\nfig.layout[\"sliders\"] = [{\n    \"steps\": steps,\n    \"currentvalue\": {\"prefix\": \"Max Baseline Length (m): \"}\n}]\n\nfor n in range(Nframes):\n  fig.layout[\"xaxis\"+str(n*2+1)] = {\n      \"range\": [0,uvmax],\n      \"domain\": [0,0.5]\n  }\n  fig.layout[\"yaxis\"+str(n*2+1)] = {\n      \"range\": [vismin,vismax],\n      \"domain\": [0,1]\n  }\n\nfig.data[0].visible = True\nfig.data[1].visible = True\n\nfig.show()",
      "metadata": {
        "tags": [],
        "trusted": true,
        "jupyter": {
          "source_hidden": true
        }
      },
      "outputs": [],
      "execution_count": null
    },
    {
      "cell_type": "markdown",
      "source": "## Figure: Image vs UV Coverage",
      "metadata": {}
    },
    {
      "cell_type": "code",
      "source": "# Generate data for each animation frame\nNframes = 12\nfig = make_subplots(rows=1, cols=2)\n\nuvmax  = np.ceil(np.max(UVdist) * (c/freq_center) ) / (c/freq_center)\n\nsteps = []\nfor n in range(Nframes):\n  uv_cutoff = (n+1)/Nframes * uvmax\n  select = np.argwhere( UVdist <= uv_cutoff )[:,0]\n\n  # --- Generate Data ---\n  UVs = UVWs[select,0:2] * (c/freq_center)\n  UVs = np.tile( UVs , (2,1) )\n  UVs[int(UVs.shape[0]/2):,:] *= -1\n\n  img_data = gen_image(select=select)\n\n  # --- Add UVplot Trace ---\n  fig.add_trace(\n      go.Scattergl(\n          name = \"\",\n          x = UVs[:,0],\n          y = UVs[:,1],\n          mode = \"markers\",\n          marker = dict(\n              color = \"black\",\n              showscale = False, # disable colorbar\n              size = 4\n          ),\n          visible = False #All frames not visible by default (We will manually enable frame 0 later)\n      ),\n      row=1, col=1\n  )\n\n  fig.add_trace(\n      go.Heatmap(\n        name = \"\",\n        z = img_data,\n        x = l_axis,\n        y = m_axis,\n        colorscale = colorscale,\n        visible = False #All frames not visible by default (We will manually enable frame 0 later)\n      ),\n      row=1, col=2\n  )\n\n  # Define slide data\n  step = {\n      \"method\": 'restyle',\n      \"args\": ['visible', ['legendonly'] * (2*Nframes) ],\n      \"label\": np.round(uv_cutoff*(c/freq_center),2)\n  }\n  step['args'][1][2*n  ] = True\n  step['args'][1][2*n+1] = True\n  steps.append(step)\n\nfig.update_layout(width=1100, height=650,autosize=False)\nfig.layout[\"template\"] = \"simple_white\"\nfig.layout[\"sliders\"] = [{\n    \"steps\": steps,\n    \"currentvalue\": {\"prefix\": \"Max Baseline Length (m): \"}\n}]\n\nfor n in range(Nframes):\n  fig.layout[\"xaxis\"+str(n*2+1)] = {\n      \"range\": [-uvmax,uvmax],\n      \"domain\": [0,0.5]\n  }\n  fig.layout[\"yaxis\"+str(n*2+1)] = {\n      \"range\": [-uvmax,uvmax],\n      \"domain\": [0,1]\n  }\n\nfig.data[0].visible = True\nfig.data[1].visible = True\n\nfig.show()",
      "metadata": {
        "tags": [],
        "trusted": true,
        "jupyter": {
          "source_hidden": true
        }
      },
      "outputs": [],
      "execution_count": null
    }
  ]
}