{
  "metadata": {
    "kernelspec": {
      "name": "python",
      "display_name": "Python (Pyodide)",
      "language": "python"
    },
    "language_info": {
      "codemirror_mode": {
        "name": "python",
        "version": 3
      },
      "file_extension": ".py",
      "mimetype": "text/x-python",
      "name": "python",
      "nbconvert_exporter": "python",
      "pygments_lexer": "ipython3",
      "version": "3.8"
    }
  },
  "nbformat_minor": 4,
  "nbformat": 4,
  "cells": [
    {
      "cell_type": "markdown",
      "source": "![ERA-LOGO](data/logo.png)",
      "metadata": {}
    },
    {
      "cell_type": "markdown",
      "source": "## Initialise Python Environment\nRun the cell bellow to get everything setup and ready to go! \\\nThis can take some time, so sit back and wait a few minutes...",
      "metadata": {}
    },
    {
      "cell_type": "code",
      "source": "from ERA_lib.requirements import install; await install();\nfrom ERA_lib.software import *",
      "metadata": {
        "trusted": true,
        "editable": true,
        "slideshow": {
          "slide_type": ""
        }
      },
      "outputs": [],
      "execution_count": null
    },
    {
      "cell_type": "markdown",
      "source": "## Output View",
      "metadata": {
        "editable": true,
        "slideshow": {
          "slide_type": ""
        }
      }
    },
    {
      "cell_type": "markdown",
      "source": "Instructions:\n1. Run the cell bellow\n2. Right click on text that says \"-- Output View --\"\n3. Select \"Create New View for Cell Output\"\n4. Drag the new window to the side of the screen (or wherever you like)\n5. Click the blue bar to the left of the output below to hide it.",
      "metadata": {
        "editable": true,
        "slideshow": {
          "slide_type": ""
        },
        "jupyter": {
          "source_hidden": true
        }
      }
    },
    {
      "cell_type": "code",
      "source": "output_view = widgets.Output()\nwith output_view:\n    print(\"\\n\\n-- Output View --\\n\\n\")\noutput_view",
      "metadata": {
        "trusted": true,
        "editable": true,
        "slideshow": {
          "slide_type": ""
        }
      },
      "outputs": [],
      "execution_count": null
    },
    {
      "cell_type": "markdown",
      "source": "<br />\nRun this cell to clear the Output View:",
      "metadata": {
        "editable": true,
        "slideshow": {
          "slide_type": ""
        }
      }
    },
    {
      "cell_type": "code",
      "source": "output_view.clear_output()",
      "metadata": {
        "trusted": true,
        "editable": true,
        "slideshow": {
          "slide_type": ""
        }
      },
      "outputs": [],
      "execution_count": null
    },
    {
      "cell_type": "markdown",
      "source": "<br />",
      "metadata": {
        "editable": true,
        "slideshow": {
          "slide_type": ""
        }
      }
    },
    {
      "cell_type": "markdown",
      "source": "## Upload a file:\nRun the cell below, then click the \"Select File\" button and select your file.",
      "metadata": {
        "editable": true,
        "slideshow": {
          "slide_type": ""
        }
      }
    },
    {
      "cell_type": "code",
      "source": "uploader = FileUploader()",
      "metadata": {
        "tags": [],
        "trusted": true,
        "editable": true,
        "slideshow": {
          "slide_type": ""
        }
      },
      "outputs": [],
      "execution_count": null
    },
    {
      "cell_type": "markdown",
      "source": "Run the cell below to upload the file:",
      "metadata": {}
    },
    {
      "cell_type": "code",
      "source": "uploader.write_file()",
      "metadata": {
        "trusted": true
      },
      "outputs": [],
      "execution_count": null
    },
    {
      "cell_type": "markdown",
      "source": "## Processing the data:",
      "metadata": {
        "editable": true,
        "slideshow": {
          "slide_type": ""
        }
      }
    },
    {
      "cell_type": "code",
      "source": "data = ERA.DataFile(\"telescope-data.uvfits\",print_metadata=True)\n#data = ERA.DataFile(\"data/example_bpcal.uvfits\",print_metadata=True)\n#data = ERA.DataFile(\"data/example_fullcal.uvfits\",print_metadata=True)",
      "metadata": {
        "trusted": true,
        "editable": true,
        "slideshow": {
          "slide_type": ""
        }
      },
      "outputs": [],
      "execution_count": null
    },
    {
      "cell_type": "markdown",
      "source": "### Figure: UV Coverage",
      "metadata": {}
    },
    {
      "cell_type": "code",
      "source": "output_view.clear_output()\nwith output_view:\n    display( data.fig_uv_coverage() )",
      "metadata": {
        "tags": [],
        "trusted": true,
        "editable": true,
        "slideshow": {
          "slide_type": ""
        }
      },
      "outputs": [],
      "execution_count": null
    },
    {
      "cell_type": "markdown",
      "source": "### Figure: Visibilities vs Baseline Length",
      "metadata": {}
    },
    {
      "cell_type": "code",
      "source": "output_view.clear_output()\nwith output_view:\n    display( data.fig_vis_v_baseline() )",
      "metadata": {
        "tags": [],
        "trusted": true
      },
      "outputs": [],
      "execution_count": null
    },
    {
      "cell_type": "markdown",
      "source": "### Figure: All sky image",
      "metadata": {}
    },
    {
      "cell_type": "code",
      "source": "output_view.clear_output()\nwith output_view:\n    display( data.fig_all_sky_image() )",
      "metadata": {
        "tags": [],
        "trusted": true
      },
      "outputs": [],
      "execution_count": null
    },
    {
      "cell_type": "markdown",
      "source": "### Figure: Image vs Baseline Length (Increasing Resolution)",
      "metadata": {}
    },
    {
      "cell_type": "code",
      "source": "output_view.clear_output()\nwith output_view:\n    data.fig_img_v_baseline().show()",
      "metadata": {
        "tags": [],
        "trusted": true
      },
      "outputs": [],
      "execution_count": null
    },
    {
      "cell_type": "markdown",
      "source": "### Figure: Image & Visibilities vs Baseline Length",
      "metadata": {}
    },
    {
      "cell_type": "code",
      "source": "output_view.clear_output()\nwith output_view:\n    data.fig_imgvis_v_baseline().show()",
      "metadata": {
        "tags": [],
        "trusted": true
      },
      "outputs": [],
      "execution_count": null
    },
    {
      "cell_type": "markdown",
      "source": "### Figure: Image vs UV Coverage",
      "metadata": {}
    },
    {
      "cell_type": "code",
      "source": "output_view.clear_output()\nwith output_view:\n    data.fig_img_v_uv().show()",
      "metadata": {
        "tags": [],
        "trusted": true
      },
      "outputs": [],
      "execution_count": null
    }
  ]
}